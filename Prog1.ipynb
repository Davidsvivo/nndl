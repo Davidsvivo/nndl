{
 "cells": [
  {
   "cell_type": "code",
   "execution_count": 1,
   "id": "872d0661-8f0a-4081-8e2f-473e266f610b",
   "metadata": {},
   "outputs": [
    {
     "name": "stdout",
     "output_type": "stream",
     "text": [
      "Training for AND gate...\n",
      "\n",
      "AND Gate Results:\n",
      "Input: [0 0], Output: [0.00024346]\n",
      "Input: [0 1], Output: [0.05546448]\n",
      "Input: [1 0], Output: [0.05548348]\n",
      "Input: [1 1], Output: [0.93405882]\n",
      "\n",
      "Training for OR gate...\n",
      "\n",
      "OR Gate Results:\n",
      "Input: [0 0], Output: [0.05497725]\n",
      "Input: [0 1], Output: [0.96567582]\n",
      "Input: [1 0], Output: [0.9656677]\n",
      "Input: [1 1], Output: [0.99992649]\n"
     ]
    }
   ],
   "source": [
    "import numpy as np\n",
    "\n",
    "# Sigmoid activation function\n",
    "def sigmoid(x):\n",
    "    return 1 / (1 + np.exp(-x))\n",
    "# Derivative of sigmoid function\n",
    "def sigmoid_derivative(x):\n",
    "    return x * (1 - x)\n",
    "X = np.array([[0, 0],\n",
    "              [0, 1],\n",
    "              [1, 0],\n",
    "              [1, 1]])\n",
    "\n",
    "y = np.array([[0], [0], [0], [1]])\n",
    "weights = np.random.rand(2, 1)\n",
    "bias = np.random.rand(1)\n",
    "\n",
    "learning_rate = 0.01\n",
    "epochs = 10000\n",
    "# Training loop\n",
    "for epoch in range(epochs):\n",
    "    # Forward pass\n",
    "    input_layer = X\n",
    "    weighted_sum = np.dot(input_layer, weights) + bias\n",
    "    activated_output = sigmoid(weighted_sum)\n",
    "    print(activated_output)\n",
    "    # Calculate the error\n",
    "    error = y - activated_output\n",
    "\n",
    "    # Backpropagation\n",
    "    adjustment = error * sigmoid_derivative(activated_output)\n",
    "    weights += np.dot(input_layer.T, adjustment) * learning_rate\n",
    "    bias += np.sum(adjustment) * learning_rate\n",
    "\n",
    "    # Test the trained model\n",
    "print(\"Final weights:\", weights)\n",
    "print(\"Final bias:\", bias)\n",
    "\n",
    "# Testing the AND gate\n",
    "print(\"Testing the AND gate:\")\n",
    "for i in range(len(X)):\n",
    "    input_data = X[i]\n",
    "    output = sigmoid(np.dot(input_data, weights) + bias)\n",
    "    print(f\"Input: {input_data}, Output: {np.round(output)}\")\n"
   ]
  },
  {
   "cell_type": "code",
   "execution_count": null,
   "id": "da2f1fac-dbfe-49c0-9119-fc1be67d7f8b",
   "metadata": {},
   "outputs": [],
   "source": []
  }
 ],
 "metadata": {
  "kernelspec": {
   "display_name": "Python 3 (ipykernel)",
   "language": "python",
   "name": "python3"
  },
  "language_info": {
   "codemirror_mode": {
    "name": "ipython",
    "version": 3
   },
   "file_extension": ".py",
   "mimetype": "text/x-python",
   "name": "python",
   "nbconvert_exporter": "python",
   "pygments_lexer": "ipython3",
   "version": "3.11.9"
  }
 },
 "nbformat": 4,
 "nbformat_minor": 5
}
